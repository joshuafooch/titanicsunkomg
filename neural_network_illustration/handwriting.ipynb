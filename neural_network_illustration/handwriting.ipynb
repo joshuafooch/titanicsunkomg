{
 "cells": [
  {
   "cell_type": "code",
   "execution_count": 1,
   "id": "e6bcab69-d4a7-4001-84f8-a953d4483478",
   "metadata": {},
   "outputs": [],
   "source": [
    "import tensorflow as tf\n",
    "import tensorflow_datasets as tfds\n",
    "import numpy as np\n",
    "import matplotlib.pyplot as plt\n",
    "from keras import backend as K\n",
    "from PIL import Image\n",
    "from IPython.display import display\n",
    "from IPython.display import Image, clear_output"
   ]
  },
  {
   "cell_type": "code",
   "execution_count": 2,
   "id": "08b0be95-7174-4fef-b3b9-2bc4d4a4113a",
   "metadata": {},
   "outputs": [
    {
     "name": "stdout",
     "output_type": "stream",
     "text": [
      "60000 5000 5000\n"
     ]
    },
    {
     "name": "stderr",
     "output_type": "stream",
     "text": [
      "2024-05-11 10:29:56.460332: I metal_plugin/src/device/metal_device.cc:1154] Metal device set to: Apple M3 Pro\n",
      "2024-05-11 10:29:56.460415: I metal_plugin/src/device/metal_device.cc:296] systemMemory: 18.00 GB\n",
      "2024-05-11 10:29:56.460421: I metal_plugin/src/device/metal_device.cc:313] maxCacheSize: 6.00 GB\n",
      "2024-05-11 10:29:56.460524: I tensorflow/core/common_runtime/pluggable_device/pluggable_device_factory.cc:306] Could not identify NUMA node of platform GPU ID 0, defaulting to 0. Your kernel may not have been built with NUMA support.\n",
      "2024-05-11 10:29:56.460560: I tensorflow/core/common_runtime/pluggable_device/pluggable_device_factory.cc:272] Created TensorFlow device (/job:localhost/replica:0/task:0/device:GPU:0 with 0 MB memory) -> physical PluggableDevice (device: 0, name: METAL, pci bus id: <undefined>)\n"
     ]
    }
   ],
   "source": [
    "# Load MNIST dataset\n",
    "training_data, validation_data, test_data = tfds.load('MNIST', split=['train', 'test[:50%]', 'test[50%:]'], as_supervised=True)\n",
    "print(len(training_data), len(validation_data), len(test_data))"
   ]
  },
  {
   "cell_type": "code",
   "execution_count": 14,
   "id": "5d7fde7a-3fcb-43d0-bd9a-6506b08f4d61",
   "metadata": {},
   "outputs": [
    {
     "name": "stdout",
     "output_type": "stream",
     "text": [
      "tf.Tensor(4, shape=(), dtype=int64)\n",
      "(28, 28, 1)\n"
     ]
    },
    {
     "name": "stderr",
     "output_type": "stream",
     "text": [
      "2024-05-11 10:34:40.970065: W tensorflow/core/kernels/data/cache_dataset_ops.cc:858] The calling iterator did not fully read the dataset being cached. In order to avoid unexpected truncation of the dataset, the partially cached contents of the dataset  will be discarded. This can happen if you have an input pipeline similar to `dataset.cache().take(k).repeat()`. You should use `dataset.take(k).cache().repeat()` instead.\n"
     ]
    },
    {
     "data": {
      "image/png": "[encoded data removed]",
      "text/plain": [
       "<Figure size 640x480 with 1 Axes>"
      ]
     },
     "metadata": {},
     "output_type": "display_data"
    }
   ],
   "source": [
    "# Visualise the dataset\n",
    "example_data = iter(training_data.take(1)).next()\n",
    "plt.imshow(example_data[0])\n",
    "print(example_data[1])\n",
    "print(example_data[0].shape)"
   ]
  },
  {
   "cell_type": "code",
   "execution_count": 9,
   "id": "8ac0358c-2617-4a80-b183-2b87cd0c38c2",
   "metadata": {},
   "outputs": [],
   "source": [
    "# Preprocess dataset\n",
    "def preprocess(image, label):\n",
    "    image = tf.cast(image, tf.float32)\n",
    "    image /= 255.\n",
    "    return (image, label)\n",
    "\n",
    "training_data = training_data.map(preprocess)\n",
    "validation_data = validation_data.map(preprocess)\n",
    "test_data = test_data.map(preprocess)"
   ]
  },
  {
   "cell_type": "code",
   "execution_count": 15,
   "id": "6458f44e-19b8-4783-91d6-ba4fb1bab4cf",
   "metadata": {},
   "outputs": [],
   "source": [
    "# Batch and shuffle dataset\n",
    "training_data = training_data.shuffle(60000).batch(128)\n",
    "validation_data = validation_data.batch(128)\n",
    "test_data = test_data.batch(128)"
   ]
  },
  {
   "cell_type": "code",
   "execution_count": 30,
   "id": "fa441596-7b04-4431-b905-5fda37db46a7",
   "metadata": {},
   "outputs": [
    {
     "name": "stdout",
     "output_type": "stream",
     "text": [
      "Model: \"model_3\"\n",
      "_________________________________________________________________\n",
      " Layer (type)                Output Shape              Param #   \n",
      "=================================================================\n",
      " input_5 (InputLayer)        [(None, 28, 28, 1)]       0         \n",
      "                                                                 \n",
      " flatten_4 (Flatten)         (None, 784)               0         \n",
      "                                                                 \n",
      " dense_11 (Dense)            (None, 10)                7850      \n",
      "                                                                 \n",
      " dense_12 (Dense)            (None, 10)                110       \n",
      "                                                                 \n",
      " dense_13 (Dense)            (None, 10)                110       \n",
      "                                                                 \n",
      "=================================================================\n",
      "Total params: 8070 (31.52 KB)\n",
      "Trainable params: 8070 (31.52 KB)\n",
      "Non-trainable params: 0 (0.00 Byte)\n",
      "_________________________________________________________________\n"
     ]
    }
   ],
   "source": [
    "# Simple Dense NN using Functional API for outputs of activations\n",
    "inputs = tf.keras.layers.Input(shape=(28, 28, 1))\n",
    "flattened = tf.keras.layers.Flatten()(inputs)\n",
    "activations_1 = tf.keras.layers.Dense(units=10, activation='sigmoid')(flattened)\n",
    "activations_2 = tf.keras.layers.Dense(units=10, activation='sigmoid')(activations_1)\n",
    "predictions = tf.keras.layers.Dense(units=10, activation='softmax')(activations_2)\n",
    "model = tf.keras.Model(inputs=inputs, outputs=[activations_1, activations_2, predictions])\n",
    "\n",
    "model.summary()"
   ]
  },
  {
   "cell_type": "code",
   "execution_count": 31,
   "id": "26cf6944-27a5-4d32-9bef-84dc8738658d",
   "metadata": {},
   "outputs": [],
   "source": [
    "optimizer = tf.keras.optimizers.legacy.Adam()\n",
    "loss = tf.keras.losses.SparseCategoricalCrossentropy()\n",
    "model.compile(optimizer=optimizer, loss=loss, metrics=['accuracy'])"
   ]
  },
  {
   "cell_type": "code",
   "execution_count": 36,
   "id": "3f4836b4-d5aa-4620-9bdc-418da0b0a9db",
   "metadata": {},
   "outputs": [
    {
     "name": "stdout",
     "output_type": "stream",
     "text": [
      "Epoch 1/10\n",
      "469/469 [==============================] - 3s 5ms/step - loss: 1.0633 - dense_11_loss: 0.3428 - dense_12_loss: 0.3590 - dense_13_loss: 0.3615 - dense_11_accuracy: 0.9102 - dense_12_accuracy: 0.9011 - dense_13_accuracy: 0.8975 - val_loss: 1.1048 - val_dense_11_loss: 0.3552 - val_dense_12_loss: 0.3713 - val_dense_13_loss: 0.3783 - val_dense_11_accuracy: 0.9088 - val_dense_12_accuracy: 0.8950 - val_dense_13_accuracy: 0.8954\n",
      "Epoch 2/10\n",
      "469/469 [==============================] - 3s 5ms/step - loss: 1.0519 - dense_11_loss: 0.3402 - dense_12_loss: 0.3548 - dense_13_loss: 0.3569 - dense_11_accuracy: 0.9108 - dense_12_accuracy: 0.9025 - dense_13_accuracy: 0.9002 - val_loss: 1.1023 - val_dense_11_loss: 0.3553 - val_dense_12_loss: 0.3701 - val_dense_13_loss: 0.3769 - val_dense_11_accuracy: 0.9084 - val_dense_12_accuracy: 0.8960 - val_dense_13_accuracy: 0.8968\n",
      "Epoch 3/10\n",
      "469/469 [==============================] - 3s 5ms/step - loss: 1.0431 - dense_11_loss: 0.3393 - dense_12_loss: 0.3508 - dense_13_loss: 0.3529 - dense_11_accuracy: 0.9112 - dense_12_accuracy: 0.9036 - dense_13_accuracy: 0.9007 - val_loss: 1.0921 - val_dense_11_loss: 0.3525 - val_dense_12_loss: 0.3683 - val_dense_13_loss: 0.3713 - val_dense_11_accuracy: 0.9090 - val_dense_12_accuracy: 0.8974 - val_dense_13_accuracy: 0.8960\n",
      "Epoch 4/10\n",
      "469/469 [==============================] - 3s 5ms/step - loss: 1.0337 - dense_11_loss: 0.3368 - dense_12_loss: 0.3478 - dense_13_loss: 0.3491 - dense_11_accuracy: 0.9124 - dense_12_accuracy: 0.9042 - dense_13_accuracy: 0.9018 - val_loss: 1.0893 - val_dense_11_loss: 0.3526 - val_dense_12_loss: 0.3664 - val_dense_13_loss: 0.3702 - val_dense_11_accuracy: 0.9108 - val_dense_12_accuracy: 0.8970 - val_dense_13_accuracy: 0.8942\n",
      "Epoch 5/10\n",
      "469/469 [==============================] - 3s 5ms/step - loss: 1.0251 - dense_11_loss: 0.3362 - dense_12_loss: 0.3438 - dense_13_loss: 0.3451 - dense_11_accuracy: 0.9121 - dense_12_accuracy: 0.9051 - dense_13_accuracy: 0.9023 - val_loss: 1.0752 - val_dense_11_loss: 0.3501 - val_dense_12_loss: 0.3580 - val_dense_13_loss: 0.3672 - val_dense_11_accuracy: 0.9110 - val_dense_12_accuracy: 0.8998 - val_dense_13_accuracy: 0.8994\n",
      "Epoch 6/10\n",
      "469/469 [==============================] - 3s 5ms/step - loss: 1.0164 - dense_11_loss: 0.3340 - dense_12_loss: 0.3407 - dense_13_loss: 0.3417 - dense_11_accuracy: 0.9125 - dense_12_accuracy: 0.9064 - dense_13_accuracy: 0.9038 - val_loss: 1.0754 - val_dense_11_loss: 0.3469 - val_dense_12_loss: 0.3599 - val_dense_13_loss: 0.3686 - val_dense_11_accuracy: 0.9126 - val_dense_12_accuracy: 0.8994 - val_dense_13_accuracy: 0.8968\n",
      "Epoch 7/10\n",
      "469/469 [==============================] - 3s 5ms/step - loss: 1.0088 - dense_11_loss: 0.3316 - dense_12_loss: 0.3378 - dense_13_loss: 0.3394 - dense_11_accuracy: 0.9130 - dense_12_accuracy: 0.9062 - dense_13_accuracy: 0.9044 - val_loss: 1.0724 - val_dense_11_loss: 0.3539 - val_dense_12_loss: 0.3565 - val_dense_13_loss: 0.3621 - val_dense_11_accuracy: 0.9088 - val_dense_12_accuracy: 0.9002 - val_dense_13_accuracy: 0.8992\n",
      "Epoch 8/10\n",
      "469/469 [==============================] - 3s 5ms/step - loss: 1.0010 - dense_11_loss: 0.3312 - dense_12_loss: 0.3347 - dense_13_loss: 0.3351 - dense_11_accuracy: 0.9132 - dense_12_accuracy: 0.9082 - dense_13_accuracy: 0.9054 - val_loss: 1.0700 - val_dense_11_loss: 0.3497 - val_dense_12_loss: 0.3557 - val_dense_13_loss: 0.3647 - val_dense_11_accuracy: 0.9122 - val_dense_12_accuracy: 0.9010 - val_dense_13_accuracy: 0.8996\n",
      "Epoch 9/10\n",
      "469/469 [==============================] - 3s 5ms/step - loss: 0.9938 - dense_11_loss: 0.3294 - dense_12_loss: 0.3321 - dense_13_loss: 0.3323 - dense_11_accuracy: 0.9140 - dense_12_accuracy: 0.9088 - dense_13_accuracy: 0.9062 - val_loss: 1.0567 - val_dense_11_loss: 0.3496 - val_dense_12_loss: 0.3496 - val_dense_13_loss: 0.3575 - val_dense_11_accuracy: 0.9112 - val_dense_12_accuracy: 0.9032 - val_dense_13_accuracy: 0.9020\n",
      "Epoch 10/10\n",
      "469/469 [==============================] - 3s 5ms/step - loss: 0.9875 - dense_11_loss: 0.3281 - dense_12_loss: 0.3295 - dense_13_loss: 0.3299 - dense_11_accuracy: 0.9150 - dense_12_accuracy: 0.9093 - dense_13_accuracy: 0.9065 - val_loss: 1.0581 - val_dense_11_loss: 0.3473 - val_dense_12_loss: 0.3499 - val_dense_13_loss: 0.3610 - val_dense_11_accuracy: 0.9130 - val_dense_12_accuracy: 0.9002 - val_dense_13_accuracy: 0.9002\n"
     ]
    }
   ],
   "source": [
    "# Train model\n",
    "history = model.fit(training_data, validation_data = validation_data, epochs=10)"
   ]
  },
  {
   "cell_type": "code",
   "execution_count": 37,
   "id": "80a8ffdd-8c3c-4461-84ac-458a9edcaa52",
   "metadata": {},
   "outputs": [
    {
     "name": "stdout",
     "output_type": "stream",
     "text": [
      "40/40 [==============================] - 0s 5ms/step - loss: 1.0283 - dense_11_loss: 0.3264 - dense_12_loss: 0.3526 - dense_13_loss: 0.3492 - dense_11_accuracy: 0.9130 - dense_12_accuracy: 0.9028 - dense_13_accuracy: 0.8976\n"
     ]
    },
    {
     "data": {
      "text/plain": [
       "[1.028257966041565,\n",
       " 0.32641512155532837,\n",
       " 0.3526128828525543,\n",
       " 0.3492298722267151,\n",
       " 0.9129999876022339,\n",
       " 0.9028000235557556,\n",
       " 0.897599995136261]"
      ]
     },
     "execution_count": 37,
     "metadata": {},
     "output_type": "execute_result"
    }
   ],
   "source": [
    "# Evaluate model on test set\n",
    "model.evaluate(test_data)"
   ]
  },
  {
   "cell_type": "code",
   "execution_count": 38,
   "id": "3d7d914e-951c-4062-90bf-8a32b6c0d3d6",
   "metadata": {},
   "outputs": [
    {
     "name": "stderr",
     "output_type": "stream",
     "text": [
      "/Users/joshua/venv-metal/lib/python3.11/site-packages/keras/src/engine/training.py:3103: UserWarning: You are saving your model as an HDF5 file via `model.save()`. This file format is considered legacy. We recommend using instead the native Keras format, e.g. `model.save('my_model.keras')`.\n",
      "  saving_api.save_model(\n"
     ]
    }
   ],
   "source": [
    "model.save('handwriting.h5')"
   ]
  },
  {
   "cell_type": "code",
   "execution_count": 39,
   "id": "8c055e2d-4ea1-49db-a324-cdfa47cae745",
   "metadata": {},
   "outputs": [],
   "source": [
    "!tensorflowjs_converter \\\n",
    "--input_format=keras \\\n",
    "--output_format=tfjs_layers_model \\\n",
    "handwriting.h5 \\\n",
    "./"
   ]
  },
  {
   "cell_type": "code",
   "execution_count": null,
   "id": "36b653d5-464c-4807-8172-ac32e38e5c31",
   "metadata": {},
   "outputs": [],
   "source": []
  }
 ],
 "metadata": {
  "kernelspec": {
   "display_name": "venv-metal",
   "language": "python",
   "name": "venv-metal"
  },
  "language_info": {
   "codemirror_mode": {
    "name": "ipython",
    "version": 3
   },
   "file_extension": ".py",
   "mimetype": "text/x-python",
   "name": "python",
   "nbconvert_exporter": "python",
   "pygments_lexer": "ipython3",
   "version": "3.11.7"
  }
 },
 "nbformat": 4,
 "nbformat_minor": 5
}
